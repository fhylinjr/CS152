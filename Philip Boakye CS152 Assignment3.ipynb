{
 "cells": [
  {
   "cell_type": "markdown",
   "metadata": {},
   "source": [
    "Before you turn this problem in, make sure everything runs as expected. First, **restart the kernel** (in the menubar, select Kernel$\\rightarrow$Restart) and then **run all cells** (in the menubar, select Cell$\\rightarrow$Run All).\n",
    "\n",
    "Make sure you fill in any place that says `YOUR CODE HERE` or \"YOUR ANSWER HERE\", as well as your name and collaborators below:"
   ]
  },
  {
   "cell_type": "code",
   "execution_count": 1,
   "metadata": {},
   "outputs": [],
   "source": [
    "NAME = \"Philip Boakye\"\n",
    "COLLABORATORS = \"\""
   ]
  },
  {
   "cell_type": "markdown",
   "metadata": {},
   "source": [
    "---"
   ]
  },
  {
   "cell_type": "markdown",
   "metadata": {
    "deletable": false,
    "editable": false,
    "nbgrader": {
     "cell_type": "markdown",
     "checksum": "5b18cdfb16f0a437495243b80a31b277",
     "grade": false,
     "grade_id": "cell-36d7173cbd11c12a",
     "locked": true,
     "schema_version": 3,
     "solution": false,
     "task": false
    }
   },
   "source": [
    "<h1>CS152 Assignment 3: The DPLL Algorithm</h1>"
   ]
  },
  {
   "cell_type": "markdown",
   "metadata": {
    "deletable": false,
    "editable": false,
    "nbgrader": {
     "cell_type": "markdown",
     "checksum": "7947006e03ad4d3e0b5469c4ddf997f0",
     "grade": false,
     "grade_id": "cell-8ec27aa9925ffc86",
     "locked": true,
     "schema_version": 3,
     "solution": false,
     "task": false
    }
   },
   "source": [
    "<h1>Question 1</h1>\n",
    "\n",
    "Define your <code>Literal</code> class below.  Ensure that you define a <code>name</code> and <code>sign</code> attribute as required in the assignment description.  In addition, include any other attributes and member functions as needed. You will need to overload <code>__neg__()</code> to correctly handle negated literals.  You may need to overload <code>__eq__()</code> and <code>__hash__()</code> also."
   ]
  },
  {
   "cell_type": "code",
   "execution_count": 2,
   "metadata": {
    "deletable": false,
    "nbgrader": {
     "cell_type": "code",
     "checksum": "6f3dcb95b91cd3b0f526b89f339b3fe9",
     "grade": false,
     "grade_id": "cell-575ae3fbbe1ccbf6",
     "locked": false,
     "schema_version": 3,
     "solution": true,
     "task": false
    }
   },
   "outputs": [],
   "source": [
    "# Import any packages you need here\n",
    "# Also define any variables as needed\n",
    "\n",
    "# YOUR CODE HERE (OPTIONAL)\n",
    "\n",
    "class Literal:\n",
    "    # YOUR CODE HERE\n",
    "    def __init__(self, name): # assignment demanded we initialized this class with name and sign attribute.\n",
    "        self.name = name\n",
    "        self.sign = True #we would need to later consider situations with negative literals\n",
    "        \n",
    "    def __neg__(self): # this will handle negative literals\n",
    "        literal = Literal(self.name)\n",
    "        literal.sign = not(self.sign)\n",
    "        return literal\n",
    "    def __eq__(self, other): # to check equality of two literals\n",
    "        return self.name == other.name\n",
    "    def __lt__(self, other): #to check if one literal is less than another\n",
    "        return self.name < other.name\n",
    "    def __hash__(self):\n",
    "        return self.name.__hash__()\n",
    "    def __repr__(self): # to represent output literals\n",
    "        if self.sign:sign = \"\"\n",
    "        else:sign = \"-\"\n",
    "        return f\"{sign}{self.name}\"\n",
    "    def pureversion(self): #sometimes we will need the pure version of a literal with no negation\n",
    "        if not self.sign:return -self\n",
    "        else:return self       \n",
    "        \n",
    "        \n",
    "        \n",
    "        "
   ]
  },
  {
   "cell_type": "markdown",
   "metadata": {
    "deletable": false,
    "editable": false,
    "nbgrader": {
     "cell_type": "markdown",
     "checksum": "7e6af6a3602f2712265baf6d3ce930f4",
     "grade": false,
     "grade_id": "cell-5df02e9e3f9998b4",
     "locked": true,
     "schema_version": 3,
     "solution": false,
     "task": false
    }
   },
   "source": [
    "<h1>Question 2</h1>\n",
    "Implement DPLL by filling in the stubs below.  Note that the various heuristics are not required to be implemented for basic functionality, but a template has been provided for you to do so if you attempt the extension questions"
   ]
  },
  {
   "cell_type": "code",
   "execution_count": 3,
   "metadata": {
    "deletable": false,
    "nbgrader": {
     "cell_type": "code",
     "checksum": "4ddf2e140725e3b8a6048c92bac9580c",
     "grade": false,
     "grade_id": "cell-2846b43cfaf88026",
     "locked": false,
     "schema_version": 3,
     "solution": true,
     "task": false
    }
   },
   "outputs": [],
   "source": [
    "# Define degree, pure symbol and unit clause heuristics here (optional).\n",
    "# Add in your functions under the templates below\n",
    "# YOUR CODE HERE (OPTIONAL)\n",
    "\n",
    "\n",
    "# WE WOULD NEED TO DEFINE EVERY SINGLE FUNCTION THAT WILL BE NEEDED IN DPLL_SATISFIABLE\n",
    "\n",
    "# FUNCTION 1: WE MIGHT NEED TO SIMPLIFY A CLAUSE BASED ON PROVIDED MODEL\n",
    "def simplifyClause(clause, model):\n",
    "    simplifiedClause = set()\n",
    "    for literal in clause:\n",
    "        temp = model.get(literal, None)\n",
    "        if temp and literal.sign or temp==False and literal.sign==False:return None\n",
    "        elif temp is None:simplifiedClause.add(literal)\n",
    "    if len(simplifiedClause) == 0:return clause #meaning we were unable to simplify\n",
    "    return simplifiedClause\n",
    "\n",
    "# FUNCTION 2: KBs ARE MADE UP OF CLAUSES AND MIGHT NEED TO SIMPLIFY OUR KB BASED ON PROVIDED MODEL\n",
    "def simplifyKB(clauses, model):\n",
    "    simplifiedKB = []\n",
    "    for clause in clauses:\n",
    "        simplifiedClause = simplifyClause(clause, model)\n",
    "        if simplifiedClause is not None:simplifiedKB.append(simplifiedClause)\n",
    "    return simplifiedKB\n",
    "\n",
    "# FUNCTION 3: EVALUATES IF ALL CLAUSES ARE TRUE OR SOME ARE FALSE OR IF CANNOT BE EVALUATED BASED ON MODEL\n",
    "def evaluateClauses(clauses, model):\n",
    "    current_eval = simplifyKB(clauses, model)\n",
    "    if len(current_eval) == 0:\n",
    "        return True # when every clause in model is True we would have an empty simplified KB\n",
    "    else: # now we check instances when everything is false or cannot be evaluated\n",
    "        for clause in current_eval:\n",
    "            onlyfalse = True\n",
    "            for literal in clause:\n",
    "                if model.get(literal, None) is None:\n",
    "                    onlyfalse = False\n",
    "                    break\n",
    "            if onlyfalse == True:return False\n",
    "        return None\n",
    "\n",
    "# FUNCTION 4: GET ALL DISTINCT LITERALS/SYMBOLS IN CLAUSES\n",
    "def distinctSymbols(clauses):\n",
    "    distinctsymbols = set() # used symbols because literals are used in mutiple places in this code.\n",
    "    for clause in clauses:\n",
    "        for symbol in clause:\n",
    "            distinctsymbols.add(symbol)\n",
    "    return distinctsymbols\n",
    "\n",
    "# FUNCTION 5: GET MOST FREQUENT SYMBOL IN A GIVEN MODEL. WILL BE USED LATER IN HEURISTICS\n",
    "def mostFrequentSymbol(symbols, clauses, model):\n",
    "    simplifiedKB = simplifyKB(clauses, model)\n",
    "    def countSym(symbol):\n",
    "        total = 0\n",
    "        for clause in simplifiedKB:\n",
    "            if symbol in clause:total+=1\n",
    "        return total\n",
    "    \n",
    "    frequencies,frequent={},None\n",
    "    for symbol in symbols:\n",
    "        total = countSym(symbol)\n",
    "        frequencies[symbol] = total\n",
    "        if frequent is None:frequent=symbol\n",
    "        else:\n",
    "            if total>frequencies[frequent]:frequent=symbol\n",
    "            elif total==frequencies[frequent]:\n",
    "                if symbol<frequent:frequent=symbol\n",
    "                else:frequent=frequent\n",
    "    copiedsymbols=symbols.copy()\n",
    "    copiedsymbols.remove(frequent)\n",
    "    return frequent,copiedsymbols\n",
    "\n",
    "# FUNCTION 6: EXTENSION FUNCTION TO FIND A PURE LITERAL IN A GIVEN KB\n",
    "def findPureLiteral(symbols, clauses, model, frequent=False):\n",
    "    simplifiedKB = simplifyKB(clauses, model)\n",
    "    pureliterals,puresigns,literalsarray = set(),{},list(symbols)\n",
    "    for i in range(len(symbols)):\n",
    "        literal=literalsarray[i]\n",
    "        for clause in simplifiedKB:\n",
    "            if literal in clause:\n",
    "                clausearray=list(clause)\n",
    "                l=clausearray[clausearray.index(literal)]\n",
    "                if literal in puresigns:\n",
    "                    if l.sign!=puresigns[literal]:\n",
    "                        pureliterals.remove(literal)\n",
    "                        i+=1\n",
    "                        break\n",
    "                else:\n",
    "                    puresigns[literal]=l.sign\n",
    "                    pureliterals.add(literal)\n",
    "    if len(pureliterals)==0:pureliteral = None\n",
    "    elif frequent:pureliteral=mostFrequentSymbol(pureliterals,clauses,model)[0]\n",
    "    else:pureliteral=sorted(list(pureliterals))[0]\n",
    "    if pureliteral is None:return None,None\n",
    "    return pureliteral,puresigns[pureliteral]\n",
    "\n",
    "# FUNCTION 7: EXTENSION FUNCTION TO FIND UNIT CLAUSE IN GIVEN KB\n",
    "def findUnitClause(clauses, model, frequent=False):\n",
    "    simplifiedKB = simplifyKB(clauses, model)\n",
    "    unitClauses = set()\n",
    "    for clause in simplifiedKB:\n",
    "        if len(clause) == 1: #meaning unit clause\n",
    "            unitClauses.add(clause.pop())\n",
    "    if len(unitClauses) == 0:unitclause=None\n",
    "    elif frequent:unitclause=mostFrequentSymbol(unitClauses,clauses,model)[0]\n",
    "    else:unitclause=sorted(list(unitClauses))[0]\n",
    "    if unitclause is None:return None,None\n",
    "    return unitclause,unitclause.sign\n",
    "    \n",
    "# WITH THESE FUNCTIONS ABOVE WE SHOULD BE READY TO TACKLE DPLL_SATISFIABLE\n",
    "\n",
    "\n",
    "def DPLL_Satisfiable(KB, heuristic_level=0):\n",
    "    ''' satisfiable, model = DPLLSatisfiable(KB)\n",
    "        Takes in a KB and returns whether the KB is satisfiable, and the model that makes it so\n",
    "        \n",
    "        KB: A knowledge base of clauses (CNF) consisting of a list of sets of literals.  A KB might look like\n",
    "            [{A,B},{-A,C,D}]\n",
    "        heuristic_level: An integer that will be passed in to specify which heuristics to implement \n",
    "            (only for the extension activities).\n",
    "        satisfiable: Returns True if the KB is satisfiable, or False otherwise\n",
    "        Model: A dictionary that assigns a truth value to each literal for the model that satisfies KB.\n",
    "            For example, a model might look like {A: True, B: False}\n",
    "    '''\n",
    "    # YOUR CODE HERE\n",
    "    # FINAL MAIN METHOD THAT DOES THE HEAVY WORK. CHECKS WHETHER A GIVEN KB IS SATISFIABLE AND WHICH MODEL HELPS IT ATTAIN SATISFIABILITY\n",
    "    def helperDPLL(KB, literals, model, heuristic_level=0, literalarray=[]):\n",
    "        '''KB: A knowledge base of clauses (CNF) consisting of a list of sets of literals.  A KB might look like\n",
    "                [{A,B},{-A,C,D}]\n",
    "        literals: literals in our KB\n",
    "        model: model used for search\n",
    "        literalarray: currently selected literals which should be empty from start but later filled with chose symbols for True/False assignment\n",
    "        heuristic_level: An integer that will be passed in to specify which heuristics to implement \n",
    "                (only for the extension activities).\n",
    "        satisfiable: Returns True if the KB is satisfiable, or False otherwise\n",
    "        Model: A dictionary that assigns a truth value to each literal for the model that satisfies KB.\n",
    "                For example, a model might look like {A: True, B: False}\n",
    "        '''\n",
    "        #first we evaluate all clauses which also serves as base case for our recursion later on\n",
    "        current_eval = evaluateClauses(KB, model)\n",
    "        if current_eval is not None:\n",
    "            return current_eval, model, literalarray\n",
    "\n",
    "        # HEURISTICS\n",
    "        # Degree Hueristic\n",
    "        if heuristic_level==1:\n",
    "            literalsarray=list(literals)\n",
    "            frequent, copiedsymbols = mostFrequentSymbol(literals, KB, model)\n",
    "            literalarray.append(frequent.pureversion())\n",
    "            truth=helperDPLL(KB, copiedsymbols, {**model,**{frequent.pureversion():True}},heuristic_level) #** = kwargs and helps to pass in any number of arguments\n",
    "            if truth[0]:return truth\n",
    "            nottruth=helperDPLL(KB, copiedsymbols, {**model,**{frequent.pureversion():False}},heuristic_level)\n",
    "            return nottruth\n",
    "\n",
    "        # Pure Literal and Unit Clause Heuristic\n",
    "        elif heuristic_level==2:\n",
    "            pureliteral, sign = findPureLiteral(literals, KB, model)\n",
    "            if pureliteral is not None:\n",
    "                literalarray.append(pureliteral.pureversion())\n",
    "                copiedliterals=literals.copy()\n",
    "                copiedliterals.remove(pureliteral)\n",
    "                return helperDPLL(KB, copiedliterals, {**model,**{pureliteral.pureversion():sign}},heuristic_level)\n",
    "            unitclause,sign = findUnitClause(KB, model)\n",
    "            if unitclause is not None:\n",
    "                literalarray.append(unitclause.pureversion())\n",
    "                copiedliterals=literals.copy()\n",
    "                copiedliterals.remove(unitclause)\n",
    "                return helperDPLL(KB, copiedliterals, {**model,**{unitclause.pureversion():sign}},heuristic_level)\n",
    "\n",
    "            literalsarray=list(literals)\n",
    "            frequent, copiedsymbols = mostFrequentSymbol(literals, KB, model)\n",
    "            literalarray.append(frequent.pureversion())\n",
    "            truth=helperDPLL(KB, copiedsymbols, {**model,**{frequent.pureversion():True}},heuristic_level)\n",
    "            if truth[0]:return truth\n",
    "            nottruth=helperDPLL(KB, copiedsymbols, {**model,**{frequent.pureversion():False}},heuristic_level)\n",
    "            return nottruth\n",
    "\n",
    "        elif heuristic_level==3:\n",
    "            pureliteral, sign = findPureLiteral(literals, KB, model, True)\n",
    "            if pureliteral is not None:\n",
    "                literalarray.append(pureliteral.pureversion())\n",
    "                copiedliterals=literals.copy()\n",
    "                copiedliterals.remove(pureliteral)\n",
    "                return helperDPLL(KB, copiedliterals, {**model,**{pureliteral.pureversion():sign}},heuristic_level)\n",
    "            unitclause,sign = findUnitClause(KB, model, True)\n",
    "            if unitclause is not None:\n",
    "                literalarray.append(unitclause.pureversion())\n",
    "                copiedliterals=literals.copy()\n",
    "                copiedliterals.remove(unitclause)\n",
    "                return helperDPLL(KB, copiedliterals, {**model,**{unitclause.pureversion():sign}},heuristic_level)\n",
    "\n",
    "            literalsarray=list(literals)\n",
    "            frequent, copiedsymbols = mostFrequentSymbol(literals, KB, model)\n",
    "            literalarray.append(frequent.pureversion())\n",
    "            truth=helperDPLL(KB, copiedsymbols, {**model,**{frequent.pureversion():True}},heuristic_level)\n",
    "            if truth[0]:return truth\n",
    "            nottruth=helperDPLL(KB, copiedsymbols, {**model,**{frequent.pureversion():False}},heuristic_level)\n",
    "            return nottruth\n",
    "\n",
    "        # if heuristic level is not any of the above then per instructions we can assume it to be 0\n",
    "        else:\n",
    "            literalsarray=list(literals)\n",
    "            frequent, copiedsymbols = literalsarray[0],set(literalsarray[1:])\n",
    "            literalarray.append(frequent.pureversion())\n",
    "            truth=helperDPLL(KB, copiedsymbols, {**model,**{frequent.pureversion():True}},heuristic_level)\n",
    "            if truth[0]:return truth\n",
    "            nottruth=helperDPLL(KB, copiedsymbols, {**model,**{frequent.pureversion():False}},heuristic_level)\n",
    "            return nottruth \n",
    "    \n",
    "    literals = distinctSymbols(KB)\n",
    "    return helperDPLL(KB,literals,{}, heuristic_level)\n",
    "  \n",
    "    \n",
    "    "
   ]
  },
  {
   "cell_type": "markdown",
   "metadata": {
    "deletable": false,
    "editable": false,
    "nbgrader": {
     "cell_type": "markdown",
     "checksum": "1a373b0f237fb333214a04ced058f50f",
     "grade": false,
     "grade_id": "cell-8c6248549aeaca88",
     "locked": true,
     "schema_version": 3,
     "solution": false,
     "task": false
    }
   },
   "source": [
    "<h1>Question 3</h1>\n",
    "\n",
    "Implement your KB from Russell & Norvig in CNF by filling in the sets inside the list <code>KB</code> below.  Ensure that your KB is in a list of set format as stated in the assignment instructions."
   ]
  },
  {
   "cell_type": "code",
   "execution_count": 4,
   "metadata": {
    "deletable": false,
    "nbgrader": {
     "cell_type": "code",
     "checksum": "a545c5a7e460e8a160a96549fba09556",
     "grade": false,
     "grade_id": "cell-2600ca4ae2649468",
     "locked": false,
     "schema_version": 3,
     "solution": true,
     "task": false
    }
   },
   "outputs": [],
   "source": [
    "# Define some literals\n",
    "A = Literal('A')\n",
    "B = Literal('B')\n",
    "C = Literal('C')\n",
    "D = Literal('D')\n",
    "E = Literal('E')\n",
    "F = Literal('F')\n",
    "\n",
    "# YOUR CODE HERE\n",
    "# In Russel and Norvig we had: S1: A <=> (B v E), S2: E => D, S3: C ^ F => ~B, S4: E => B, S5: B => F, S6: B => C\n",
    "KB = [{-A, B, E}, {A, -B}, {A, -E},#S1\n",
    "{-E, D},#S2\n",
    "{-C, -F, -B},#S3\n",
    "{-E, B},#S4\n",
    "{-B, F},#S5\n",
    "{-B, C}#S6    \n",
    "]\n",
    "      "
   ]
  },
  {
   "cell_type": "markdown",
   "metadata": {
    "deletable": false,
    "editable": false,
    "nbgrader": {
     "cell_type": "markdown",
     "checksum": "197d7a486e328210a1d13c24747b3111",
     "grade": false,
     "grade_id": "cell-3e6849da5a8eba9a",
     "locked": true,
     "schema_version": 3,
     "solution": false,
     "task": false
    }
   },
   "source": [
    "<h1>Extensions</h1>\n",
    "\n",
    "1. Implement the degree heuristic for choosing symbols.  If <code>heuristic_level=1</code>, then the degree heuristic should be used to select which symbol to assign.\n",
    "2. Implement the pure symbol and unit clause heuristics.  If <code>heuristic_level=2</code>, then these heuristics should be used to find select first a pure symbol, and if one is not found, then a unit clause.  If neither pure symbols nor unit clauses are found, then the degree heuristic should be used to select a symbol.  If there are multiple pure symbols or unit clauses found, then use alphabetical order to select amongst them.\n",
    "3. Modify the pure symbol heuristic to choose the pure symbol that occurs in the most number of clauses.  This should be activated if <code>heuristic_level=3</code>."
   ]
  },
  {
   "cell_type": "markdown",
   "metadata": {
    "deletable": false,
    "editable": false,
    "nbgrader": {
     "cell_type": "markdown",
     "checksum": "755ed998a518249d48e3e3518ec2ed63",
     "grade": false,
     "grade_id": "cell-f24016ad18be5ed3",
     "locked": true,
     "schema_version": 3,
     "solution": false,
     "task": false
    }
   },
   "source": [
    "<h1>Basic Functionality Tests</h1>\n",
    "\n",
    "All of the tests in this section must be passed for the code to be considered fully functional.  Other unseen test cases will be used after submission to further verify functionality"
   ]
  },
  {
   "cell_type": "code",
   "execution_count": 5,
   "metadata": {
    "deletable": false,
    "editable": false,
    "nbgrader": {
     "cell_type": "code",
     "checksum": "ea88980a283406b7789cd4f485dc3172",
     "grade": true,
     "grade_id": "cell-6af1cbc180046559",
     "locked": true,
     "points": 1,
     "schema_version": 3,
     "solution": false,
     "task": false
    }
   },
   "outputs": [],
   "source": [
    "# This section will test the correct definition of the literal class\n",
    "\n",
    "\n",
    "# Test the name attribute works correctly\n",
    "assert(A.name == 'A')\n",
    "\n",
    "# Test that negation works correctly\n",
    "assert(not (-C).sign)"
   ]
  },
  {
   "cell_type": "code",
   "execution_count": 6,
   "metadata": {
    "deletable": false,
    "editable": false,
    "nbgrader": {
     "cell_type": "code",
     "checksum": "9264e8da332b50a0adf2a1de4ec4a591",
     "grade": true,
     "grade_id": "cell-76b5f4949b4918a0",
     "locked": true,
     "points": 2,
     "schema_version": 3,
     "solution": false,
     "task": false
    }
   },
   "outputs": [],
   "source": [
    "# This section will test that the KB has been correctly converted to CNF by performing \n",
    "# tests over all possible models\n",
    "import itertools\n",
    "symbols = {A,B,C,D,E,F}\n",
    "symbol_list = [A,B,C,D,E,F]\n",
    "\n",
    "def evaluate_russell_norvig_KB(model):\n",
    "    # Manually evaluate the KB using the model\n",
    "    s = list()\n",
    "    s.append(model[A] == (model[B] or model[E]))\n",
    "    s.append(model[E] <= model[D])\n",
    "    s.append((model[C] and model[F]) <= (not model[B]))\n",
    "    s.append(model[E] <= model[B])\n",
    "    s.append(model[B] <= model[F])\n",
    "    s.append(model[B] <= model[C])\n",
    "    return all(s)\n",
    "\n",
    "def evaluate_KB(KB, model):\n",
    "    model_true = True\n",
    "    model_name_dict = {l.name: model[l] for l in model}\n",
    "    for clause in KB:\n",
    "        evaluation = {l.sign == model_name_dict[l.name] for l in clause if l.name in model_name_dict}\n",
    "        model_true = model_true and any(evaluation)\n",
    "    return model_true\n",
    "\n",
    "all_models = list(itertools.product([False, True], repeat=6))\n",
    "for i in range(0, len(all_models)):\n",
    "    # Test all truth values\n",
    "    test_model = {symbol_list[j]: all_models[i][j] for j in range(0,6)}\n",
    "    \n",
    "    # Test the model\n",
    "    assert(evaluate_russell_norvig_KB(test_model) == evaluate_KB(KB, test_model))"
   ]
  },
  {
   "cell_type": "code",
   "execution_count": 7,
   "metadata": {
    "deletable": false,
    "editable": false,
    "nbgrader": {
     "cell_type": "code",
     "checksum": "bd40af18e4e25d64cb61ca9425b25eeb",
     "grade": true,
     "grade_id": "cell-5007c88f303571cb",
     "locked": true,
     "points": 4,
     "schema_version": 3,
     "solution": false,
     "task": false
    }
   },
   "outputs": [],
   "source": [
    "# This section will test the basic working of DPLL\n",
    "# Satisfiable model\n",
    "test_KB = [{A, C},{-A, C}, {B, -C}]\n",
    "t, model, symbol_trace = DPLL_Satisfiable(test_KB)\n",
    "assert(evaluate_KB(test_KB, model))\n",
    "assert(t)\n",
    "\n",
    "# Unsatisfiable model\n",
    "test_KB = [{A, C},{-A, C}, {-C}]\n",
    "t, model, symbol_trace = DPLL_Satisfiable(test_KB)\n",
    "assert(not t)"
   ]
  },
  {
   "cell_type": "code",
   "execution_count": 8,
   "metadata": {
    "deletable": false,
    "editable": false,
    "nbgrader": {
     "cell_type": "code",
     "checksum": "5d93f38084e3ef0a6cf8b286f3e12054",
     "grade": true,
     "grade_id": "cell-63ce3735a6a8d49e",
     "locked": true,
     "points": 8,
     "schema_version": 3,
     "solution": false,
     "task": false
    }
   },
   "outputs": [
    {
     "name": "stdout",
     "output_type": "stream",
     "text": [
      "{A: False, C: True, F: True, B: False, D: True, E: False}\n"
     ]
    }
   ],
   "source": [
    "# This will test DPLL on the KB from Russell & Norvig\n",
    "t, model, symbol_trace = DPLL_Satisfiable(KB,0)\n",
    "print(model)\n",
    "\n",
    "# This model is satisfiable.  Test that it is so\n",
    "assert(t)\n",
    "\n",
    "# Check that the model found actually works\n",
    "assert(evaluate_KB(KB, model)) "
   ]
  },
  {
   "cell_type": "markdown",
   "metadata": {
    "deletable": false,
    "editable": false,
    "nbgrader": {
     "cell_type": "markdown",
     "checksum": "ce65b5b44bde9f05b920ae0d91060dae",
     "grade": false,
     "grade_id": "cell-d4a09c27c6cafd14",
     "locked": true,
     "schema_version": 3,
     "solution": false,
     "task": false
    }
   },
   "source": [
    "<h1>Extension Tests</h1>\n",
    "\n",
    "This section will test that the degree heuristic, pure symbol and unit clause heuristics are correctly implemented.  Note that in your code, the <code>heuristic_level</code> needs to correctly activate the heuristic being tested, and the <code>symbol_trace</code> needs to be correctly generated "
   ]
  },
  {
   "cell_type": "code",
   "execution_count": 9,
   "metadata": {
    "deletable": false,
    "editable": false,
    "nbgrader": {
     "cell_type": "code",
     "checksum": "f424f4aebd9db7873be8b31b6b7c92b7",
     "grade": true,
     "grade_id": "cell-782f68d63b7be51f",
     "locked": true,
     "points": 16,
     "schema_version": 3,
     "solution": false,
     "task": false
    }
   },
   "outputs": [
    {
     "name": "stdout",
     "output_type": "stream",
     "text": [
      "{B: False, E: False, A: False}\n",
      "[B, A, C, F, E, A]\n"
     ]
    },
    {
     "data": {
      "text/plain": [
       "[B, A, C, F, E, A]"
      ]
     },
     "execution_count": 9,
     "metadata": {},
     "output_type": "execute_result"
    }
   ],
   "source": [
    "# Degree Heuristic Test for KB from Russell & Norvig\n",
    "t, model, symbol_trace = DPLL_Satisfiable(KB,1)\n",
    "print(model)\n",
    "print(symbol_trace)\n",
    "\n",
    "# This model is satisfiable.  Test that it is so\n",
    "assert(t)\n",
    "\n",
    "# Check that the model found actually works\n",
    "assert(evaluate_KB(KB, model))  \n",
    "\n",
    "# Test the symbol trace to ensure that the correct order is chosen\n",
    "assert([l.name for l in symbol_trace] in [['B','F', 'E', 'C', 'C', 'E', 'A'], \n",
    "                                          ['B', 'A', 'C', 'F', 'E', 'A'], \n",
    "                                          ['B','E','A']])\n",
    "\n",
    "symbol_trace"
   ]
  },
  {
   "cell_type": "code",
   "execution_count": 10,
   "metadata": {
    "deletable": false,
    "editable": false,
    "nbgrader": {
     "cell_type": "code",
     "checksum": "2bb85f7fb1f6d58b16dbfd8705608a21",
     "grade": true,
     "grade_id": "cell-1849b5bca210fac7",
     "locked": true,
     "points": 32,
     "schema_version": 3,
     "solution": false,
     "task": false
    }
   },
   "outputs": [
    {
     "name": "stdout",
     "output_type": "stream",
     "text": [
      "{D: True, B: False, E: False, A: False}\n",
      "[D, B, A, C, F, E, A]\n"
     ]
    }
   ],
   "source": [
    "# Pure Symbol & Unit Clause Heuristic Test for KB from Russell & Norvig\n",
    "t, model, symbol_trace = DPLL_Satisfiable(KB,2)\n",
    "print(model)\n",
    "print(symbol_trace)\n",
    "\n",
    "\n",
    "# This model is satisfiable.  Test that it is so\n",
    "assert(t)\n",
    "\n",
    "# Check that the model found actually works\n",
    "assert(evaluate_KB(KB, model))\n",
    "\n",
    "# Test the symbol trace to ensure that the correct order is chosen\n",
    "assert([l.name for l in symbol_trace] in [['D', 'B', 'E', 'A', 'C', 'F', 'E', 'A'], \n",
    "                                          ['D', 'B', 'A', 'C', 'F', 'E', 'A'], \n",
    "                                          ['D', 'B' ,'E', 'A']])"
   ]
  },
  {
   "cell_type": "code",
   "execution_count": 11,
   "metadata": {
    "deletable": false,
    "editable": false,
    "nbgrader": {
     "cell_type": "code",
     "checksum": "4157d3933516a5b6a22c8950e8063cc9",
     "grade": true,
     "grade_id": "cell-b9ce4afcdb630096",
     "locked": true,
     "points": 64,
     "schema_version": 3,
     "solution": false,
     "task": false
    }
   },
   "outputs": [
    {
     "name": "stdout",
     "output_type": "stream",
     "text": [
      "{D: True, B: False, E: False, A: False}\n",
      "[D, B, A, C, F, E, A]\n"
     ]
    }
   ],
   "source": [
    "# Pure Symbol & Unit Clause Heuristic Test, choosing the most-frequently used pure symbol, for KB from Russell & Norvig\n",
    "t, model, symbol_trace = DPLL_Satisfiable(KB,3)\n",
    "print(model)\n",
    "print(symbol_trace)\n",
    "\n",
    "# This model is satisfiable.  Test that it is so\n",
    "assert(t)\n",
    "\n",
    "# Check that the model found actually works\n",
    "assert(evaluate_KB(KB, model))\n",
    "\n",
    "# Test the symbol trace to ensure that the correct order is chosen\n",
    "assert([l.name for l in symbol_trace] in [['D', 'B', 'A', 'C', 'F', 'E', 'A'], \n",
    "                                          ['D', 'B' ,'E', 'A']])"
   ]
  },
  {
   "cell_type": "markdown",
   "metadata": {},
   "source": [
    "# HCs Applied\n",
    "\n",
    "**#heuristics:**\n",
    "Given the basic assignment requirement of implementing a working DPLL, I went ahead to attempt 2/3 other heuristics that can help identify a satisfiable KB and which model helps it.\n",
    "\n",
    "**#selfawareness:**\n",
    "\n",
    "For this assignment, I believe I have exhibited a responsible level of #selfawareness by\n",
    "starting very early ahead of time knowing my weakness of procrastination so I can\n",
    "finish major portions of the assignment before the break. Also, I noted while it gets to the end of the semester, there can be a burnout and need for extensions, I ensured I kept all my extensions till now so I can actually take time to do this assignment very well. Consequently, this allowed me to consult the TA and my course mates about some obstacles and common confusions. By this, I have been able to commit to my academics and balance my personal plans with this course’s requirements.\n",
    "\n",
    "**#organization:**\n",
    "\n",
    "I effectively utilized this HC throughout the assignment. I communicated in a precise\n",
    "style using terms and diction appropriate to the concepts discussed. I used active voice over passive and avoided pretentious diction. I maintained a descriptive writing style for my explanation, which shows precise detail of analysis. Also for the main DPLL algorithm, before jumping straight into code, I ensured I wrote all the helper functions/methods I would need for that code."
   ]
  }
 ],
 "metadata": {
  "kernelspec": {
   "display_name": "Python 3 (ipykernel)",
   "language": "python",
   "name": "python3"
  },
  "language_info": {
   "codemirror_mode": {
    "name": "ipython",
    "version": 3
   },
   "file_extension": ".py",
   "mimetype": "text/x-python",
   "name": "python",
   "nbconvert_exporter": "python",
   "pygments_lexer": "ipython3",
   "version": "3.9.7"
  }
 },
 "nbformat": 4,
 "nbformat_minor": 2
}
